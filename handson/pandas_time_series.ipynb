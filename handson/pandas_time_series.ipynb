{
 "cells": [
  {
   "cell_type": "code",
   "execution_count": 1,
   "outputs": [],
   "source": [
    "# imports\n",
    "import pandas as pd\n",
    "import numpy as np\n",
    "import matplotlib.pyplot as plt\n",
    "import seaborn as sns\n",
    "import warnings\n",
    "from datetime import datetime\n",
    "from datetime import timedelta\n",
    "from dateutil.relativedelta import relativedelta\n",
    "from IPython.display import display\n",
    "import os\n",
    "from colorsetup import colors, palette\n",
    "sns.set_palette(palette)\n",
    "# ignore warnings\n",
    "warnings.filterwarnings('ignore')\n",
    "pd.options.display.float_format = '{:,.1f}'.format\n",
    "%matplotlib inline\n",
    "plotsize = (13, 5)"
   ],
   "metadata": {
    "collapsed": false,
    "pycharm": {
     "name": "#%%\n"
    }
   }
  },
  {
   "cell_type": "markdown",
   "source": [
    "### Read in source data:\n",
    "It is often easiest to read data in as a Pandas DataFrame. Pandas provides a variety of __[Input/Output](https://pandas.pydata.org/pandas-docs/stable/reference/io.html)__ options to read files from common (.csv, .json) or proprietary (.xls, .sas7bdat) formats."
   ],
   "metadata": {
    "collapsed": false,
    "pycharm": {
     "name": "#%% md\n"
    }
   }
  },
  {
   "cell_type": "code",
   "execution_count": 2,
   "outputs": [
    {
     "data": {
      "text/plain": "Index(['Row ID', 'Order ID', 'Order Date', 'Ship Date', 'Ship Mode',\n       'Customer ID', 'Customer Name', 'Segment', 'Country', 'City', 'State',\n       'Postal Code', 'Region', 'Product ID', 'Category', 'Sub-Category',\n       'Product Name', 'Sales', 'Quantity', 'Discount', 'Profit'],\n      dtype='object')"
     },
     "execution_count": 2,
     "metadata": {},
     "output_type": "execute_result"
    }
   ],
   "source": [
    "df = pd.read_excel('Sample - Superstore.xls')\n",
    "df.columns"
   ],
   "metadata": {
    "collapsed": false,
    "pycharm": {
     "name": "#%%\n"
    }
   }
  },
  {
   "cell_type": "code",
   "execution_count": 3,
   "outputs": [
    {
     "data": {
      "text/plain": "   Row ID        Order ID Order Date  Ship Date       Ship Mode Customer ID  \\\n0       1  CA-2013-152156 2013-11-09 2013-11-12    Second Class    CG-12520   \n1       2  CA-2013-152156 2013-11-09 2013-11-12    Second Class    CG-12520   \n2       3  CA-2013-138688 2013-06-13 2013-06-17    Second Class    DV-13045   \n3       4  US-2012-108966 2012-10-11 2012-10-18  Standard Class    SO-20335   \n4       5  US-2012-108966 2012-10-11 2012-10-18  Standard Class    SO-20335   \n\n     Customer Name    Segment        Country             City  ...  \\\n0      Claire Gute   Consumer  United States        Henderson  ...   \n1      Claire Gute   Consumer  United States        Henderson  ...   \n2  Darrin Van Huff  Corporate  United States      Los Angeles  ...   \n3   Sean O'Donnell   Consumer  United States  Fort Lauderdale  ...   \n4   Sean O'Donnell   Consumer  United States  Fort Lauderdale  ...   \n\n  Postal Code  Region       Product ID         Category Sub-Category  \\\n0       42420   South  FUR-BO-10001798        Furniture    Bookcases   \n1       42420   South  FUR-CH-10000454        Furniture       Chairs   \n2       90036    West  OFF-LA-10000240  Office Supplies       Labels   \n3       33311   South  FUR-TA-10000577        Furniture       Tables   \n4       33311   South  OFF-ST-10000760  Office Supplies      Storage   \n\n                                        Product Name Sales  Quantity  \\\n0                  Bush Somerset Collection Bookcase 262.0         2   \n1  Hon Deluxe Fabric Upholstered Stacking Chairs,... 731.9         3   \n2  Self-Adhesive Address Labels for Typewriters b...  14.6         2   \n3      Bretford CR4500 Series Slim Rectangular Table 957.6         5   \n4                     Eldon Fold 'N Roll Cart System  22.4         2   \n\n   Discount  Profit  \n0       0.0    41.9  \n1       0.0   219.6  \n2       0.0     6.9  \n3       0.5  -383.0  \n4       0.2     2.5  \n\n[5 rows x 21 columns]",
      "text/html": "<div>\n<style scoped>\n    .dataframe tbody tr th:only-of-type {\n        vertical-align: middle;\n    }\n\n    .dataframe tbody tr th {\n        vertical-align: top;\n    }\n\n    .dataframe thead th {\n        text-align: right;\n    }\n</style>\n<table border=\"1\" class=\"dataframe\">\n  <thead>\n    <tr style=\"text-align: right;\">\n      <th></th>\n      <th>Row ID</th>\n      <th>Order ID</th>\n      <th>Order Date</th>\n      <th>Ship Date</th>\n      <th>Ship Mode</th>\n      <th>Customer ID</th>\n      <th>Customer Name</th>\n      <th>Segment</th>\n      <th>Country</th>\n      <th>City</th>\n      <th>...</th>\n      <th>Postal Code</th>\n      <th>Region</th>\n      <th>Product ID</th>\n      <th>Category</th>\n      <th>Sub-Category</th>\n      <th>Product Name</th>\n      <th>Sales</th>\n      <th>Quantity</th>\n      <th>Discount</th>\n      <th>Profit</th>\n    </tr>\n  </thead>\n  <tbody>\n    <tr>\n      <th>0</th>\n      <td>1</td>\n      <td>CA-2013-152156</td>\n      <td>2013-11-09</td>\n      <td>2013-11-12</td>\n      <td>Second Class</td>\n      <td>CG-12520</td>\n      <td>Claire Gute</td>\n      <td>Consumer</td>\n      <td>United States</td>\n      <td>Henderson</td>\n      <td>...</td>\n      <td>42420</td>\n      <td>South</td>\n      <td>FUR-BO-10001798</td>\n      <td>Furniture</td>\n      <td>Bookcases</td>\n      <td>Bush Somerset Collection Bookcase</td>\n      <td>262.0</td>\n      <td>2</td>\n      <td>0.0</td>\n      <td>41.9</td>\n    </tr>\n    <tr>\n      <th>1</th>\n      <td>2</td>\n      <td>CA-2013-152156</td>\n      <td>2013-11-09</td>\n      <td>2013-11-12</td>\n      <td>Second Class</td>\n      <td>CG-12520</td>\n      <td>Claire Gute</td>\n      <td>Consumer</td>\n      <td>United States</td>\n      <td>Henderson</td>\n      <td>...</td>\n      <td>42420</td>\n      <td>South</td>\n      <td>FUR-CH-10000454</td>\n      <td>Furniture</td>\n      <td>Chairs</td>\n      <td>Hon Deluxe Fabric Upholstered Stacking Chairs,...</td>\n      <td>731.9</td>\n      <td>3</td>\n      <td>0.0</td>\n      <td>219.6</td>\n    </tr>\n    <tr>\n      <th>2</th>\n      <td>3</td>\n      <td>CA-2013-138688</td>\n      <td>2013-06-13</td>\n      <td>2013-06-17</td>\n      <td>Second Class</td>\n      <td>DV-13045</td>\n      <td>Darrin Van Huff</td>\n      <td>Corporate</td>\n      <td>United States</td>\n      <td>Los Angeles</td>\n      <td>...</td>\n      <td>90036</td>\n      <td>West</td>\n      <td>OFF-LA-10000240</td>\n      <td>Office Supplies</td>\n      <td>Labels</td>\n      <td>Self-Adhesive Address Labels for Typewriters b...</td>\n      <td>14.6</td>\n      <td>2</td>\n      <td>0.0</td>\n      <td>6.9</td>\n    </tr>\n    <tr>\n      <th>3</th>\n      <td>4</td>\n      <td>US-2012-108966</td>\n      <td>2012-10-11</td>\n      <td>2012-10-18</td>\n      <td>Standard Class</td>\n      <td>SO-20335</td>\n      <td>Sean O'Donnell</td>\n      <td>Consumer</td>\n      <td>United States</td>\n      <td>Fort Lauderdale</td>\n      <td>...</td>\n      <td>33311</td>\n      <td>South</td>\n      <td>FUR-TA-10000577</td>\n      <td>Furniture</td>\n      <td>Tables</td>\n      <td>Bretford CR4500 Series Slim Rectangular Table</td>\n      <td>957.6</td>\n      <td>5</td>\n      <td>0.5</td>\n      <td>-383.0</td>\n    </tr>\n    <tr>\n      <th>4</th>\n      <td>5</td>\n      <td>US-2012-108966</td>\n      <td>2012-10-11</td>\n      <td>2012-10-18</td>\n      <td>Standard Class</td>\n      <td>SO-20335</td>\n      <td>Sean O'Donnell</td>\n      <td>Consumer</td>\n      <td>United States</td>\n      <td>Fort Lauderdale</td>\n      <td>...</td>\n      <td>33311</td>\n      <td>South</td>\n      <td>OFF-ST-10000760</td>\n      <td>Office Supplies</td>\n      <td>Storage</td>\n      <td>Eldon Fold 'N Roll Cart System</td>\n      <td>22.4</td>\n      <td>2</td>\n      <td>0.2</td>\n      <td>2.5</td>\n    </tr>\n  </tbody>\n</table>\n<p>5 rows × 21 columns</p>\n</div>"
     },
     "execution_count": 3,
     "metadata": {},
     "output_type": "execute_result"
    }
   ],
   "source": [
    "df.head()"
   ],
   "metadata": {
    "collapsed": false,
    "pycharm": {
     "name": "#%%\n"
    }
   }
  },
  {
   "cell_type": "markdown",
   "source": [
    "We can see the data have been input and the columns are referenced by a Pandas Index object. There are two Date variables (Order Date and Ship Date), variables for customer and region, product type variables (Category, Sub-Category, Product Name), etc.\n",
    "\n",
    "### Simplify Time Series Data\n",
    "We will start by simplifying the input data a bit to explore data types. To do so, we will look at Total Sales by Order Date and Category. This allows us to look a Time Series dataset with multiple time series."
   ],
   "metadata": {
    "collapsed": false,
    "pycharm": {
     "name": "#%% md\n"
    }
   }
  },
  {
   "cell_type": "code",
   "execution_count": 4,
   "outputs": [],
   "source": [
    "variables = ['Order Date', 'Category', 'Sales']\n",
    "\n",
    "group_variables = variables[:2]\n",
    "outcome_variable = variables[2]\n",
    "base = df.groupby(group_variables)[outcome_variable].sum().reset_index()"
   ],
   "metadata": {
    "collapsed": false,
    "pycharm": {
     "name": "#%%\n"
    }
   }
  },
  {
   "cell_type": "markdown",
   "source": [
    "Note we reset the index, if we don't, Pandas sets the group variables to the index (more on this later). We can see the result is a Pandas DataFrame with columns for `Order Date`, `Category`, and `Sales`. We can think of this as a `Sales` time series for each `Category`."
   ],
   "metadata": {
    "collapsed": false,
    "pycharm": {
     "name": "#%% md\n"
    }
   }
  },
  {
   "cell_type": "code",
   "execution_count": 5,
   "outputs": [
    {
     "name": "stdout",
     "output_type": "stream",
     "text": [
      "Columns: Index(['Order Date', 'Category', 'Sales'], dtype='object')\n",
      "Index: RangeIndex(start=0, stop=2864, step=1)\n"
     ]
    }
   ],
   "source": [
    "print(\"Columns:\", base.columns)\n",
    "print(\"Index:\", base.index)"
   ],
   "metadata": {
    "collapsed": false,
    "pycharm": {
     "name": "#%%\n"
    }
   }
  },
  {
   "cell_type": "code",
   "execution_count": 6,
   "outputs": [
    {
     "data": {
      "text/plain": "  Order Date         Category   Sales\n0 2011-01-04  Office Supplies    16.4\n1 2011-01-05  Office Supplies   288.1\n2 2011-01-06  Office Supplies    19.5\n3 2011-01-07        Furniture 2,573.8\n4 2011-01-07  Office Supplies   685.3",
      "text/html": "<div>\n<style scoped>\n    .dataframe tbody tr th:only-of-type {\n        vertical-align: middle;\n    }\n\n    .dataframe tbody tr th {\n        vertical-align: top;\n    }\n\n    .dataframe thead th {\n        text-align: right;\n    }\n</style>\n<table border=\"1\" class=\"dataframe\">\n  <thead>\n    <tr style=\"text-align: right;\">\n      <th></th>\n      <th>Order Date</th>\n      <th>Category</th>\n      <th>Sales</th>\n    </tr>\n  </thead>\n  <tbody>\n    <tr>\n      <th>0</th>\n      <td>2011-01-04</td>\n      <td>Office Supplies</td>\n      <td>16.4</td>\n    </tr>\n    <tr>\n      <th>1</th>\n      <td>2011-01-05</td>\n      <td>Office Supplies</td>\n      <td>288.1</td>\n    </tr>\n    <tr>\n      <th>2</th>\n      <td>2011-01-06</td>\n      <td>Office Supplies</td>\n      <td>19.5</td>\n    </tr>\n    <tr>\n      <th>3</th>\n      <td>2011-01-07</td>\n      <td>Furniture</td>\n      <td>2,573.8</td>\n    </tr>\n    <tr>\n      <th>4</th>\n      <td>2011-01-07</td>\n      <td>Office Supplies</td>\n      <td>685.3</td>\n    </tr>\n  </tbody>\n</table>\n</div>"
     },
     "execution_count": 6,
     "metadata": {},
     "output_type": "execute_result"
    }
   ],
   "source": [
    "base.head()"
   ],
   "metadata": {
    "collapsed": false,
    "pycharm": {
     "name": "#%%\n"
    }
   }
  },
  {
   "cell_type": "markdown",
   "source": [
    "Individual DataFrame columns are Pandas `Series`, and we can see the `RangeIndex` on the left. This Pandas `DataFrame` is a combination of the `RangeIndex` and Pandas `Series` objects, where each has an underlying data type:"
   ],
   "metadata": {
    "collapsed": false,
    "pycharm": {
     "name": "#%% md\n"
    }
   }
  },
  {
   "cell_type": "code",
   "execution_count": 7,
   "outputs": [
    {
     "data": {
      "text/plain": "Order Date    datetime64[ns]\nCategory              object\nSales                float64\ndtype: object"
     },
     "execution_count": 7,
     "metadata": {},
     "output_type": "execute_result"
    }
   ],
   "source": [
    "base.dtypes"
   ],
   "metadata": {
    "collapsed": false,
    "pycharm": {
     "name": "#%%\n"
    }
   }
  },
  {
   "cell_type": "markdown",
   "source": [
    "#### Pandas DataFrame types:"
   ],
   "metadata": {
    "collapsed": false,
    "pycharm": {
     "name": "#%% md\n"
    }
   }
  },
  {
   "cell_type": "code",
   "execution_count": 8,
   "outputs": [
    {
     "name": "stdout",
     "output_type": "stream",
     "text": [
      "Order Date <class 'pandas.core.series.Series'> datetime64[ns]\n",
      "Category <class 'pandas.core.series.Series'> object\n",
      "Sales <class 'pandas.core.series.Series'> float64\n"
     ]
    }
   ],
   "source": [
    "for x in base.columns:\n",
    "    print(x, type(base[x]), base[x].dtype)"
   ],
   "metadata": {
    "collapsed": false,
    "pycharm": {
     "name": "#%%\n"
    }
   }
  },
  {
   "cell_type": "markdown",
   "source": [
    "### Working with NumPy Arrays\n",
    "It isn't always necessary to extract NumPy arrays, as the Pandas Series contains NumPy functionality. However, some applications use NumPy arrays as inputs and can bypass Pandas if desired."
   ],
   "metadata": {
    "collapsed": false,
    "pycharm": {
     "name": "#%% md\n"
    }
   }
  },
  {
   "cell_type": "code",
   "execution_count": 9,
   "outputs": [],
   "source": [
    "order_date = np.array(base['Order Date'])\n",
    "sales = np.array(base['Sales'])\n",
    "category = np.array(base['Category'])"
   ],
   "metadata": {
    "collapsed": false,
    "pycharm": {
     "name": "#%%\n"
    }
   }
  },
  {
   "cell_type": "code",
   "execution_count": 10,
   "outputs": [
    {
     "name": "stdout",
     "output_type": "stream",
     "text": [
      "Order Date <class 'numpy.ndarray'> datetime64[ns]\n",
      "Category <class 'numpy.ndarray'> object\n",
      "Sales <class 'numpy.ndarray'> float64\n"
     ]
    }
   ],
   "source": [
    "print('Order Date', type(order_date), order_date.dtype)\n",
    "print('Category', type(category), category.dtype)\n",
    "print('Sales', type(sales), sales.dtype)"
   ],
   "metadata": {
    "collapsed": false,
    "pycharm": {
     "name": "#%%\n"
    }
   }
  },
  {
   "cell_type": "markdown",
   "source": [
    "If starting from the NumPy arrays, we could build the DataFrame (note dictionary input structure):"
   ],
   "metadata": {
    "collapsed": false,
    "pycharm": {
     "name": "#%% md\n"
    }
   }
  },
  {
   "cell_type": "code",
   "execution_count": 11,
   "outputs": [],
   "source": [
    "df_from_numpy = pd.DataFrame({'Order Date': order_date, 'Category': category, 'Sales': sales})"
   ],
   "metadata": {
    "collapsed": false,
    "pycharm": {
     "name": "#%%\n"
    }
   }
  },
  {
   "cell_type": "code",
   "execution_count": 12,
   "outputs": [
    {
     "data": {
      "text/plain": "Order Date    datetime64[ns]\nCategory              object\nSales                float64\ndtype: object"
     },
     "execution_count": 12,
     "metadata": {},
     "output_type": "execute_result"
    }
   ],
   "source": [
    "df_from_numpy.dtypes"
   ],
   "metadata": {
    "collapsed": false,
    "pycharm": {
     "name": "#%%\n"
    }
   }
  },
  {
   "cell_type": "markdown",
   "source": [
    "### datetime64 format in Numpy\n",
    "The NumPy date array is a datetime64 object, with ns (nanosecond) units. We can leave it this way, or specify a unit:"
   ],
   "metadata": {
    "collapsed": false,
    "pycharm": {
     "name": "#%% md\n"
    }
   }
  },
  {
   "cell_type": "markdown",
   "source": [
    "While the Array and Pandas Series are basically the same, we see the Series has an index, and formats the date output somewhat."
   ],
   "metadata": {
    "collapsed": false,
    "pycharm": {
     "name": "#%% md\n"
    }
   }
  },
  {
   "cell_type": "code",
   "execution_count": 13,
   "outputs": [
    {
     "data": {
      "text/plain": "array(['2011-01-04T00:00:00.000000000', '2011-01-05T00:00:00.000000000',\n       '2011-01-06T00:00:00.000000000', ...,\n       '2014-12-31T00:00:00.000000000', '2014-12-31T00:00:00.000000000',\n       '2014-12-31T00:00:00.000000000'], dtype='datetime64[ns]')"
     },
     "execution_count": 13,
     "metadata": {},
     "output_type": "execute_result"
    }
   ],
   "source": [
    "order_date"
   ],
   "metadata": {
    "collapsed": false,
    "pycharm": {
     "name": "#%%\n"
    }
   }
  },
  {
   "cell_type": "code",
   "execution_count": 14,
   "outputs": [],
   "source": [
    "order_date_daily = np.array(order_date, dtype='datetime64[D]')"
   ],
   "metadata": {
    "collapsed": false,
    "pycharm": {
     "name": "#%%\n"
    }
   }
  },
  {
   "cell_type": "code",
   "execution_count": 15,
   "outputs": [
    {
     "data": {
      "text/plain": "array(['2011-01-04', '2011-01-05', '2011-01-06', ..., '2014-12-31',\n       '2014-12-31', '2014-12-31'], dtype='datetime64[D]')"
     },
     "execution_count": 15,
     "metadata": {},
     "output_type": "execute_result"
    }
   ],
   "source": [
    "order_date_daily"
   ],
   "metadata": {
    "collapsed": false,
    "pycharm": {
     "name": "#%%\n"
    }
   }
  },
  {
   "cell_type": "code",
   "execution_count": 16,
   "outputs": [],
   "source": [
    "order_date_monthly = np.array(order_date, dtype='datetime64[M]')"
   ],
   "metadata": {
    "collapsed": false,
    "pycharm": {
     "name": "#%%\n"
    }
   }
  },
  {
   "cell_type": "code",
   "execution_count": 17,
   "outputs": [
    {
     "data": {
      "text/plain": "array(['2011-01', '2011-01', '2011-01', ..., '2014-12', '2014-12',\n       '2014-12'], dtype='datetime64[M]')"
     },
     "execution_count": 17,
     "metadata": {},
     "output_type": "execute_result"
    }
   ],
   "source": [
    "order_date_monthly"
   ],
   "metadata": {
    "collapsed": false,
    "pycharm": {
     "name": "#%%\n"
    }
   }
  },
  {
   "cell_type": "code",
   "execution_count": 18,
   "outputs": [
    {
     "data": {
      "text/plain": "array(['2011-01', '2011-02', '2011-03', '2011-04', '2011-05', '2011-06',\n       '2011-07', '2011-08', '2011-09', '2011-10', '2011-11', '2011-12',\n       '2012-01', '2012-02', '2012-03', '2012-04', '2012-05', '2012-06',\n       '2012-07', '2012-08', '2012-09', '2012-10', '2012-11', '2012-12',\n       '2013-01', '2013-02', '2013-03', '2013-04', '2013-05', '2013-06',\n       '2013-07', '2013-08', '2013-09', '2013-10', '2013-11', '2013-12',\n       '2014-01', '2014-02', '2014-03', '2014-04', '2014-05', '2014-06',\n       '2014-07', '2014-08', '2014-09', '2014-10', '2014-11', '2014-12'],\n      dtype='datetime64[M]')"
     },
     "execution_count": 18,
     "metadata": {},
     "output_type": "execute_result"
    }
   ],
   "source": [
    "np.unique(order_date_monthly)"
   ],
   "metadata": {
    "collapsed": false,
    "pycharm": {
     "name": "#%%\n"
    }
   }
  },
  {
   "cell_type": "code",
   "execution_count": 19,
   "outputs": [
    {
     "data": {
      "text/plain": "48"
     },
     "execution_count": 19,
     "metadata": {},
     "output_type": "execute_result"
    }
   ],
   "source": [
    "len(np.unique(order_date_monthly))"
   ],
   "metadata": {
    "collapsed": false,
    "pycharm": {
     "name": "#%%\n"
    }
   }
  },
  {
   "cell_type": "markdown",
   "source": [
    "We can see we have 48 unique months of data."
   ],
   "metadata": {
    "collapsed": false,
    "pycharm": {
     "name": "#%% md\n"
    }
   }
  },
  {
   "cell_type": "markdown",
   "source": [
    "# Working with the Pandas DatetimeIndex\n",
    "Let's return to our Pandas DataFrame object:"
   ],
   "metadata": {
    "collapsed": false,
    "pycharm": {
     "name": "#%% md\n"
    }
   }
  },
  {
   "cell_type": "code",
   "execution_count": 20,
   "outputs": [
    {
     "data": {
      "text/plain": "  Order Date         Category   Sales\n0 2011-01-04  Office Supplies    16.4\n1 2011-01-05  Office Supplies   288.1\n2 2011-01-06  Office Supplies    19.5\n3 2011-01-07        Furniture 2,573.8\n4 2011-01-07  Office Supplies   685.3",
      "text/html": "<div>\n<style scoped>\n    .dataframe tbody tr th:only-of-type {\n        vertical-align: middle;\n    }\n\n    .dataframe tbody tr th {\n        vertical-align: top;\n    }\n\n    .dataframe thead th {\n        text-align: right;\n    }\n</style>\n<table border=\"1\" class=\"dataframe\">\n  <thead>\n    <tr style=\"text-align: right;\">\n      <th></th>\n      <th>Order Date</th>\n      <th>Category</th>\n      <th>Sales</th>\n    </tr>\n  </thead>\n  <tbody>\n    <tr>\n      <th>0</th>\n      <td>2011-01-04</td>\n      <td>Office Supplies</td>\n      <td>16.4</td>\n    </tr>\n    <tr>\n      <th>1</th>\n      <td>2011-01-05</td>\n      <td>Office Supplies</td>\n      <td>288.1</td>\n    </tr>\n    <tr>\n      <th>2</th>\n      <td>2011-01-06</td>\n      <td>Office Supplies</td>\n      <td>19.5</td>\n    </tr>\n    <tr>\n      <th>3</th>\n      <td>2011-01-07</td>\n      <td>Furniture</td>\n      <td>2,573.8</td>\n    </tr>\n    <tr>\n      <th>4</th>\n      <td>2011-01-07</td>\n      <td>Office Supplies</td>\n      <td>685.3</td>\n    </tr>\n  </tbody>\n</table>\n</div>"
     },
     "metadata": {},
     "output_type": "display_data"
    },
    {
     "name": "stdout",
     "output_type": "stream",
     "text": [
      "\n",
      " unique categories:\n",
      "['Office Supplies' 'Furniture' 'Technology']\n"
     ]
    }
   ],
   "source": [
    "display(base.head())\n",
    "print('\\n unique categories:')\n",
    "print(base['Category'].unique())"
   ],
   "metadata": {
    "collapsed": false,
    "pycharm": {
     "name": "#%%\n"
    }
   }
  },
  {
   "cell_type": "markdown",
   "source": [
    "## Setting Index Using Existing Variable\n",
    "We often want to set an Index explicitly, or manipulate an Index, for working with Time Series data. The Pandas DateTime Index is useful here, although it is often useful to standardize the  index by ensuring all relevant time periods are included only once. Our data violate this condition for two reasons: (1) Multiple values for a given period (due to multiple categories) and (2) Missing days (for daily data). We will fix both of these issues below, and explore some useful Datetime functionality."
   ],
   "metadata": {
    "collapsed": false,
    "pycharm": {
     "name": "#%% md\n"
    }
   }
  },
  {
   "cell_type": "code",
   "execution_count": 21,
   "outputs": [],
   "source": [
    "base.set_index('Order Date', inplace=True)\n",
    "# Note that without inplace=True, it will output the results without changing the data"
   ],
   "metadata": {
    "collapsed": false,
    "pycharm": {
     "name": "#%%\n"
    }
   }
  },
  {
   "cell_type": "code",
   "execution_count": 22,
   "outputs": [
    {
     "data": {
      "text/plain": "                   Category   Sales\nOrder Date                         \n2011-01-04  Office Supplies    16.4\n2011-01-05  Office Supplies   288.1\n2011-01-06  Office Supplies    19.5\n2011-01-07        Furniture 2,573.8\n2011-01-07  Office Supplies   685.3",
      "text/html": "<div>\n<style scoped>\n    .dataframe tbody tr th:only-of-type {\n        vertical-align: middle;\n    }\n\n    .dataframe tbody tr th {\n        vertical-align: top;\n    }\n\n    .dataframe thead th {\n        text-align: right;\n    }\n</style>\n<table border=\"1\" class=\"dataframe\">\n  <thead>\n    <tr style=\"text-align: right;\">\n      <th></th>\n      <th>Category</th>\n      <th>Sales</th>\n    </tr>\n    <tr>\n      <th>Order Date</th>\n      <th></th>\n      <th></th>\n    </tr>\n  </thead>\n  <tbody>\n    <tr>\n      <th>2011-01-04</th>\n      <td>Office Supplies</td>\n      <td>16.4</td>\n    </tr>\n    <tr>\n      <th>2011-01-05</th>\n      <td>Office Supplies</td>\n      <td>288.1</td>\n    </tr>\n    <tr>\n      <th>2011-01-06</th>\n      <td>Office Supplies</td>\n      <td>19.5</td>\n    </tr>\n    <tr>\n      <th>2011-01-07</th>\n      <td>Furniture</td>\n      <td>2,573.8</td>\n    </tr>\n    <tr>\n      <th>2011-01-07</th>\n      <td>Office Supplies</td>\n      <td>685.3</td>\n    </tr>\n  </tbody>\n</table>\n</div>"
     },
     "execution_count": 22,
     "metadata": {},
     "output_type": "execute_result"
    }
   ],
   "source": [
    "base.head()"
   ],
   "metadata": {
    "collapsed": false,
    "pycharm": {
     "name": "#%%\n"
    }
   }
  },
  {
   "cell_type": "code",
   "execution_count": 23,
   "outputs": [
    {
     "data": {
      "text/plain": "DatetimeIndex(['2011-01-04', '2011-01-05', '2011-01-06', '2011-01-07',\n               '2011-01-07', '2011-01-07', '2011-01-08', '2011-01-08',\n               '2011-01-10', '2011-01-10',\n               ...\n               '2014-12-28', '2014-12-29', '2014-12-29', '2014-12-29',\n               '2014-12-30', '2014-12-30', '2014-12-30', '2014-12-31',\n               '2014-12-31', '2014-12-31'],\n              dtype='datetime64[ns]', name='Order Date', length=2864, freq=None)"
     },
     "metadata": {},
     "output_type": "display_data"
    }
   ],
   "source": [
    "display(base.index)"
   ],
   "metadata": {
    "collapsed": false,
    "pycharm": {
     "name": "#%%\n"
    }
   }
  },
  {
   "cell_type": "markdown",
   "source": [
    "## Subsetting data\n",
    "We now have a __DatetimeIndex__ and we can use it to select data subsets:"
   ],
   "metadata": {
    "collapsed": false,
    "pycharm": {
     "name": "#%% md\n"
    }
   }
  },
  {
   "cell_type": "code",
   "execution_count": 24,
   "outputs": [
    {
     "data": {
      "text/plain": "                   Category   Sales\nOrder Date                         \n2011-01-04  Office Supplies    16.4\n2011-01-05  Office Supplies   288.1\n2011-01-06  Office Supplies    19.5\n2011-01-07        Furniture 2,573.8\n2011-01-07  Office Supplies   685.3",
      "text/html": "<div>\n<style scoped>\n    .dataframe tbody tr th:only-of-type {\n        vertical-align: middle;\n    }\n\n    .dataframe tbody tr th {\n        vertical-align: top;\n    }\n\n    .dataframe thead th {\n        text-align: right;\n    }\n</style>\n<table border=\"1\" class=\"dataframe\">\n  <thead>\n    <tr style=\"text-align: right;\">\n      <th></th>\n      <th>Category</th>\n      <th>Sales</th>\n    </tr>\n    <tr>\n      <th>Order Date</th>\n      <th></th>\n      <th></th>\n    </tr>\n  </thead>\n  <tbody>\n    <tr>\n      <th>2011-01-04</th>\n      <td>Office Supplies</td>\n      <td>16.4</td>\n    </tr>\n    <tr>\n      <th>2011-01-05</th>\n      <td>Office Supplies</td>\n      <td>288.1</td>\n    </tr>\n    <tr>\n      <th>2011-01-06</th>\n      <td>Office Supplies</td>\n      <td>19.5</td>\n    </tr>\n    <tr>\n      <th>2011-01-07</th>\n      <td>Furniture</td>\n      <td>2,573.8</td>\n    </tr>\n    <tr>\n      <th>2011-01-07</th>\n      <td>Office Supplies</td>\n      <td>685.3</td>\n    </tr>\n  </tbody>\n</table>\n</div>"
     },
     "metadata": {},
     "output_type": "display_data"
    },
    {
     "name": "stdout",
     "output_type": "stream",
     "text": [
      "\n",
      "\n"
     ]
    },
    {
     "data": {
      "text/plain": "                   Category  Sales\nOrder Date                        \n2011-01-04  Office Supplies   16.4\n2011-01-05  Office Supplies  288.1\n2011-01-06  Office Supplies   19.5\n2011-01-07  Office Supplies  685.3\n2011-01-08  Office Supplies   10.4",
      "text/html": "<div>\n<style scoped>\n    .dataframe tbody tr th:only-of-type {\n        vertical-align: middle;\n    }\n\n    .dataframe tbody tr th {\n        vertical-align: top;\n    }\n\n    .dataframe thead th {\n        text-align: right;\n    }\n</style>\n<table border=\"1\" class=\"dataframe\">\n  <thead>\n    <tr style=\"text-align: right;\">\n      <th></th>\n      <th>Category</th>\n      <th>Sales</th>\n    </tr>\n    <tr>\n      <th>Order Date</th>\n      <th></th>\n      <th></th>\n    </tr>\n  </thead>\n  <tbody>\n    <tr>\n      <th>2011-01-04</th>\n      <td>Office Supplies</td>\n      <td>16.4</td>\n    </tr>\n    <tr>\n      <th>2011-01-05</th>\n      <td>Office Supplies</td>\n      <td>288.1</td>\n    </tr>\n    <tr>\n      <th>2011-01-06</th>\n      <td>Office Supplies</td>\n      <td>19.5</td>\n    </tr>\n    <tr>\n      <th>2011-01-07</th>\n      <td>Office Supplies</td>\n      <td>685.3</td>\n    </tr>\n    <tr>\n      <th>2011-01-08</th>\n      <td>Office Supplies</td>\n      <td>10.4</td>\n    </tr>\n  </tbody>\n</table>\n</div>"
     },
     "metadata": {},
     "output_type": "display_data"
    }
   ],
   "source": [
    "# Observations in 2014\n",
    "display(base['2011'].head())\n",
    "print('\\n')\n",
    "# observations in a range of dates, subset of columns:\n",
    "display(base[base['Category'] == 'Office Supplies']['2011':'2012-02'].head())"
   ],
   "metadata": {
    "collapsed": false,
    "pycharm": {
     "name": "#%%\n"
    }
   }
  },
  {
   "cell_type": "markdown",
   "source": [
    "## Datetime Components\n",
    "Pandas Datetime variables have a number of useful __[components](https://pandas.pydata.org/pandas-docs/stable/user_guide/timeseries.html#time-date-components)__.  Using the DatetimeIndex, we can extract items like month, year, day of week, quarter, etc.:"
   ],
   "metadata": {
    "collapsed": false,
    "pycharm": {
     "name": "#%% md\n"
    }
   }
  },
  {
   "cell_type": "code",
   "execution_count": 25,
   "outputs": [
    {
     "name": "stdout",
     "output_type": "stream",
     "text": [
      "Day: Int64Index([ 4,  5,  6,  7,  7,  7,  8,  8, 10, 10,\n",
      "            ...\n",
      "            28, 29, 29, 29, 30, 30, 30, 31, 31, 31],\n",
      "           dtype='int64', name='Order Date', length=2864) \n",
      "\n",
      "Week: Int64Index([ 1,  1,  1,  1,  1,  1,  1,  1,  2,  2,\n",
      "            ...\n",
      "            52,  1,  1,  1,  1,  1,  1,  1,  1,  1],\n",
      "           dtype='int64', name='Order Date', length=2864) \n",
      "\n"
     ]
    },
    {
     "data": {
      "text/plain": "                   Category   Sales  DayofWeek\nOrder Date                                    \n2011-01-04  Office Supplies    16.4          1\n2011-01-05  Office Supplies   288.1          2\n2011-01-06  Office Supplies    19.5          3\n2011-01-07        Furniture 2,573.8          4\n2011-01-07  Office Supplies   685.3          4",
      "text/html": "<div>\n<style scoped>\n    .dataframe tbody tr th:only-of-type {\n        vertical-align: middle;\n    }\n\n    .dataframe tbody tr th {\n        vertical-align: top;\n    }\n\n    .dataframe thead th {\n        text-align: right;\n    }\n</style>\n<table border=\"1\" class=\"dataframe\">\n  <thead>\n    <tr style=\"text-align: right;\">\n      <th></th>\n      <th>Category</th>\n      <th>Sales</th>\n      <th>DayofWeek</th>\n    </tr>\n    <tr>\n      <th>Order Date</th>\n      <th></th>\n      <th></th>\n      <th></th>\n    </tr>\n  </thead>\n  <tbody>\n    <tr>\n      <th>2011-01-04</th>\n      <td>Office Supplies</td>\n      <td>16.4</td>\n      <td>1</td>\n    </tr>\n    <tr>\n      <th>2011-01-05</th>\n      <td>Office Supplies</td>\n      <td>288.1</td>\n      <td>2</td>\n    </tr>\n    <tr>\n      <th>2011-01-06</th>\n      <td>Office Supplies</td>\n      <td>19.5</td>\n      <td>3</td>\n    </tr>\n    <tr>\n      <th>2011-01-07</th>\n      <td>Furniture</td>\n      <td>2,573.8</td>\n      <td>4</td>\n    </tr>\n    <tr>\n      <th>2011-01-07</th>\n      <td>Office Supplies</td>\n      <td>685.3</td>\n      <td>4</td>\n    </tr>\n  </tbody>\n</table>\n</div>"
     },
     "metadata": {},
     "output_type": "display_data"
    }
   ],
   "source": [
    "#base.set_index('Order Date', inplace=True)\n",
    "print('Day:', base.index.day, '\\n')\n",
    "print('Week:', base.index.week, '\\n')\n",
    "\n",
    "base['DayofWeek'] = base.index.dayofweek # Day of Week: Monday=0, Sunday=6\n",
    "display(base.head())\n",
    "\n",
    "# Note: use dt method when the date variable is not part of the index:\n",
    "# df['Order Date'].dt.dayofweek.head()\n",
    "del(base['DayofWeek'])"
   ],
   "metadata": {
    "collapsed": false,
    "pycharm": {
     "name": "#%%\n"
    }
   }
  },
  {
   "cell_type": "markdown",
   "source": [
    "# Standardizing the DatetimeIndex\n",
    "While data from existing variables may be sufficient, some Time Series applications require that data contain all periods and have a Frequency assigned. We can see above that our data do not have a frequency (freq=None). While the data seem daily, there are many types of possible [frequencies](http://pandas.pydata.org/pandas-docs/stable/timeseries.html#offset-aliases) (business days, weekdays, etc.). If the input data are already standardized, Pandas will infer a Frequency and assign it. Otherwise, we need to ensure there are:\n",
    "- No duplicate index values\n",
    "- No missing index values\n",
    "\n",
    "Setting a Frequency helps ensure the data are standardized and will work in applications, and is also required for functionality like resampling."
   ],
   "metadata": {
    "collapsed": false,
    "pycharm": {
     "name": "#%% md\n"
    }
   }
  },
  {
   "cell_type": "markdown",
   "source": [
    "## Pivoting Data:\n",
    "\n",
    "Because there are multiple categories, we have multiple Time Series to analyze. As a result, our __DatetimeIndex__ does not uniquely identify an observation. To uniquely identify observations, we can either add categorical variables to the Index, or set a Pandas DateTimeIndex with separate columns for each series. There are several ways to accomplish this. The first appraoch uses Pandas' built-in __[pivot](https://pandas.pydata.org/pandas-docs/stable/reference/api/pandas.DataFrame.pivot.html)__ method:\n",
    "\n",
    "### Pandas pivot method\n"
   ],
   "metadata": {
    "collapsed": false,
    "pycharm": {
     "name": "#%% md\n"
    }
   }
  },
  {
   "cell_type": "code",
   "execution_count": 26,
   "outputs": [
    {
     "data": {
      "text/plain": "Category    Furniture  Office Supplies  Technology\nOrder Date                                        \n2011-01-04        NaN             16.4         NaN\n2011-01-05        NaN            288.1         NaN\n2011-01-06        NaN             19.5         NaN\n2011-01-07    2,573.8            685.3     1,147.9\n2011-01-08       76.7             10.4         NaN",
      "text/html": "<div>\n<style scoped>\n    .dataframe tbody tr th:only-of-type {\n        vertical-align: middle;\n    }\n\n    .dataframe tbody tr th {\n        vertical-align: top;\n    }\n\n    .dataframe thead th {\n        text-align: right;\n    }\n</style>\n<table border=\"1\" class=\"dataframe\">\n  <thead>\n    <tr style=\"text-align: right;\">\n      <th>Category</th>\n      <th>Furniture</th>\n      <th>Office Supplies</th>\n      <th>Technology</th>\n    </tr>\n    <tr>\n      <th>Order Date</th>\n      <th></th>\n      <th></th>\n      <th></th>\n    </tr>\n  </thead>\n  <tbody>\n    <tr>\n      <th>2011-01-04</th>\n      <td>NaN</td>\n      <td>16.4</td>\n      <td>NaN</td>\n    </tr>\n    <tr>\n      <th>2011-01-05</th>\n      <td>NaN</td>\n      <td>288.1</td>\n      <td>NaN</td>\n    </tr>\n    <tr>\n      <th>2011-01-06</th>\n      <td>NaN</td>\n      <td>19.5</td>\n      <td>NaN</td>\n    </tr>\n    <tr>\n      <th>2011-01-07</th>\n      <td>2,573.8</td>\n      <td>685.3</td>\n      <td>1,147.9</td>\n    </tr>\n    <tr>\n      <th>2011-01-08</th>\n      <td>76.7</td>\n      <td>10.4</td>\n      <td>NaN</td>\n    </tr>\n  </tbody>\n</table>\n</div>"
     },
     "execution_count": 26,
     "metadata": {},
     "output_type": "execute_result"
    }
   ],
   "source": [
    "base.reset_index(inplace=True)\n",
    "# Note if you didn't reset didn't reset index, we could use index=None below\n",
    "sales_pivot = base.pivot(index='Order Date', columns='Category', values='Sales')\n",
    "sales_pivot.head()"
   ],
   "metadata": {
    "collapsed": false,
    "pycharm": {
     "name": "#%%\n"
    }
   }
  },
  {
   "cell_type": "markdown",
   "source": [
    "Note that missing values (`NaN`) are often introduced here, and can be set to 0 easily using the `fillna(0)` method.\n",
    "\n",
    "### Unstacking:\n",
    "To achieve the same result in Pandas, it is often easier to use the __Index__ and __[unstack](https://pandas.pydata.org/pandas-docs/stable/reference/api/pandas.DataFrame.unstack.html)__ / __[(stack)](https://pandas.pydata.org/pandas-docs/stable/reference/api/pandas.DataFrame.stack.html)__ methods. The __unstack__ method transforms long data into wide data by creating columns by category for levels of the index, while __stack__ does the reverse.\n",
    "\n",
    "Here, we can tell Pandas that the `Date` and `Category` values are part of the __Index__ and use the `unstack` function to generate separate columns (this also removes the `Category` column from the Index):"
   ],
   "metadata": {
    "collapsed": false,
    "pycharm": {
     "name": "#%% md\n"
    }
   }
  },
  {
   "cell_type": "code",
   "execution_count": 27,
   "outputs": [
    {
     "data": {
      "text/plain": "            Furniture  Office Supplies  Technology\nOrder Date                                        \n2011-01-04        0.0             16.4         0.0\n2011-01-05        0.0            288.1         0.0\n2011-01-06        0.0             19.5         0.0\n2011-01-07    2,573.8            685.3     1,147.9\n2011-01-08       76.7             10.4         0.0",
      "text/html": "<div>\n<style scoped>\n    .dataframe tbody tr th:only-of-type {\n        vertical-align: middle;\n    }\n\n    .dataframe tbody tr th {\n        vertical-align: top;\n    }\n\n    .dataframe thead th {\n        text-align: right;\n    }\n</style>\n<table border=\"1\" class=\"dataframe\">\n  <thead>\n    <tr style=\"text-align: right;\">\n      <th></th>\n      <th>Furniture</th>\n      <th>Office Supplies</th>\n      <th>Technology</th>\n    </tr>\n    <tr>\n      <th>Order Date</th>\n      <th></th>\n      <th></th>\n      <th></th>\n    </tr>\n  </thead>\n  <tbody>\n    <tr>\n      <th>2011-01-04</th>\n      <td>0.0</td>\n      <td>16.4</td>\n      <td>0.0</td>\n    </tr>\n    <tr>\n      <th>2011-01-05</th>\n      <td>0.0</td>\n      <td>288.1</td>\n      <td>0.0</td>\n    </tr>\n    <tr>\n      <th>2011-01-06</th>\n      <td>0.0</td>\n      <td>19.5</td>\n      <td>0.0</td>\n    </tr>\n    <tr>\n      <th>2011-01-07</th>\n      <td>2,573.8</td>\n      <td>685.3</td>\n      <td>1,147.9</td>\n    </tr>\n    <tr>\n      <th>2011-01-08</th>\n      <td>76.7</td>\n      <td>10.4</td>\n      <td>0.0</td>\n    </tr>\n  </tbody>\n</table>\n</div>"
     },
     "execution_count": 27,
     "metadata": {},
     "output_type": "execute_result"
    }
   ],
   "source": [
    "sales = base.set_index(['Order Date', 'Category']).unstack('Category').fillna(0)\n",
    "# Note -- 2 levels of column names, the original variables are in columns.levels[0],\n",
    "# newly-created category variable names are in columns.levels[1]. This can be reset completely:\n",
    "# sales.columns = sales.columns.levels[1].rename(None)\n",
    "# Alternatively, keeping 'Sales' as a level 0 name allows us to refer to the variables jointly (sales['Sales'])\n",
    "sales.columns = sales.columns.levels[1].rename(None)\n",
    "sales.head()"
   ],
   "metadata": {
    "collapsed": false,
    "pycharm": {
     "name": "#%%\n"
    }
   }
  },
  {
   "cell_type": "code",
   "execution_count": 28,
   "outputs": [
    {
     "data": {
      "text/plain": "            Furniture  Office Supplies  Technology\nOrder Date                                        \n2011-01-04        0.0             16.4         0.0\n2011-01-05        0.0            288.1         0.0\n2011-01-06        0.0             19.5         0.0\n2011-01-07    2,573.8            685.3     1,147.9\n2011-01-08       76.7             10.4         0.0\n...               ...              ...         ...\n2014-12-27        0.0            814.6         0.0\n2014-12-28        0.0             13.2       164.4\n2014-12-29      551.3          1,091.2        14.9\n2014-12-30    2,330.7            282.4       302.4\n2014-12-31      323.1            299.7        90.9\n\n[1238 rows x 3 columns]",
      "text/html": "<div>\n<style scoped>\n    .dataframe tbody tr th:only-of-type {\n        vertical-align: middle;\n    }\n\n    .dataframe tbody tr th {\n        vertical-align: top;\n    }\n\n    .dataframe thead th {\n        text-align: right;\n    }\n</style>\n<table border=\"1\" class=\"dataframe\">\n  <thead>\n    <tr style=\"text-align: right;\">\n      <th></th>\n      <th>Furniture</th>\n      <th>Office Supplies</th>\n      <th>Technology</th>\n    </tr>\n    <tr>\n      <th>Order Date</th>\n      <th></th>\n      <th></th>\n      <th></th>\n    </tr>\n  </thead>\n  <tbody>\n    <tr>\n      <th>2011-01-04</th>\n      <td>0.0</td>\n      <td>16.4</td>\n      <td>0.0</td>\n    </tr>\n    <tr>\n      <th>2011-01-05</th>\n      <td>0.0</td>\n      <td>288.1</td>\n      <td>0.0</td>\n    </tr>\n    <tr>\n      <th>2011-01-06</th>\n      <td>0.0</td>\n      <td>19.5</td>\n      <td>0.0</td>\n    </tr>\n    <tr>\n      <th>2011-01-07</th>\n      <td>2,573.8</td>\n      <td>685.3</td>\n      <td>1,147.9</td>\n    </tr>\n    <tr>\n      <th>2011-01-08</th>\n      <td>76.7</td>\n      <td>10.4</td>\n      <td>0.0</td>\n    </tr>\n    <tr>\n      <th>...</th>\n      <td>...</td>\n      <td>...</td>\n      <td>...</td>\n    </tr>\n    <tr>\n      <th>2014-12-27</th>\n      <td>0.0</td>\n      <td>814.6</td>\n      <td>0.0</td>\n    </tr>\n    <tr>\n      <th>2014-12-28</th>\n      <td>0.0</td>\n      <td>13.2</td>\n      <td>164.4</td>\n    </tr>\n    <tr>\n      <th>2014-12-29</th>\n      <td>551.3</td>\n      <td>1,091.2</td>\n      <td>14.9</td>\n    </tr>\n    <tr>\n      <th>2014-12-30</th>\n      <td>2,330.7</td>\n      <td>282.4</td>\n      <td>302.4</td>\n    </tr>\n    <tr>\n      <th>2014-12-31</th>\n      <td>323.1</td>\n      <td>299.7</td>\n      <td>90.9</td>\n    </tr>\n  </tbody>\n</table>\n<p>1238 rows × 3 columns</p>\n</div>"
     },
     "execution_count": 28,
     "metadata": {},
     "output_type": "execute_result"
    }
   ],
   "source": [
    "sales"
   ],
   "metadata": {
    "collapsed": false,
    "pycharm": {
     "name": "#%%\n"
    }
   }
  },
  {
   "cell_type": "code",
   "execution_count": 29,
   "outputs": [
    {
     "name": "stdout",
     "output_type": "stream",
     "text": [
      "DatetimeIndex(['2011-01-04', '2011-01-05', '2011-01-06', '2011-01-07',\n",
      "               '2011-01-08', '2011-01-10', '2011-01-11', '2011-01-12',\n",
      "               '2011-01-14', '2011-01-15',\n",
      "               ...\n",
      "               '2014-12-22', '2014-12-23', '2014-12-24', '2014-12-25',\n",
      "               '2014-12-26', '2014-12-27', '2014-12-28', '2014-12-29',\n",
      "               '2014-12-30', '2014-12-31'],\n",
      "              dtype='datetime64[ns]', name='Order Date', length=1238, freq=None)\n",
      "\n",
      "Unique dates in our data:  1238 Days\n"
     ]
    }
   ],
   "source": [
    "print(sales.index)\n",
    "print('\\nUnique dates in our data: ', len(sales.index.unique()), 'Days')"
   ],
   "metadata": {
    "collapsed": false,
    "pycharm": {
     "name": "#%%\n"
    }
   }
  },
  {
   "cell_type": "markdown",
   "source": [
    "Since we have now created a column for each category, we can see there no longer repeated values in the Datetime Index.\n",
    "\n",
    "## Generating a complete Index and Setting Frequency\n",
    "Since we are using daily data, we would like to set a daily frequency. We see our data has a length of 1238 days. By subtracting the smallest date from the largest date, we can tell there are some days missing:"
   ],
   "metadata": {
    "collapsed": false,
    "pycharm": {
     "name": "#%% md\n"
    }
   }
  },
  {
   "cell_type": "code",
   "execution_count": 30,
   "outputs": [
    {
     "name": "stdout",
     "output_type": "stream",
     "text": [
      "\n",
      "Unique dates in our data:  1238 Days\n",
      "Total days in our date range: 1457 Days\n"
     ]
    }
   ],
   "source": [
    "print('\\nUnique dates in our data: ', len(sales.index.unique()), 'Days')\n",
    "our_date_range = sales.index.max() - sales.index.min()\n",
    "\n",
    "# Calculate number of days in date range\n",
    "print('Total days in our date range:', our_date_range.days, 'Days')\n",
    "# date_range = pd.date_range(min(sales.index), max(sales.index))"
   ],
   "metadata": {
    "collapsed": false,
    "pycharm": {
     "name": "#%%\n"
    }
   }
  },
  {
   "cell_type": "markdown",
   "source": [
    "We can generate a complete index using Pandas' __[date_range](https://pandas.pydata.org/pandas-docs/stable/reference/api/pandas.date_range.html)__ function:"
   ],
   "metadata": {
    "collapsed": false,
    "pycharm": {
     "name": "#%% md\n"
    }
   }
  },
  {
   "cell_type": "code",
   "execution_count": 31,
   "outputs": [
    {
     "name": "stdout",
     "output_type": "stream",
     "text": [
      "DatetimeIndex(['2011-01-04', '2011-01-05', '2011-01-06', '2011-01-07',\n",
      "               '2011-01-08', '2011-01-09', '2011-01-10', '2011-01-11',\n",
      "               '2011-01-12', '2011-01-13',\n",
      "               ...\n",
      "               '2014-12-22', '2014-12-23', '2014-12-24', '2014-12-25',\n",
      "               '2014-12-26', '2014-12-27', '2014-12-28', '2014-12-29',\n",
      "               '2014-12-30', '2014-12-31'],\n",
      "              dtype='datetime64[ns]', length=1458, freq='D')\n"
     ]
    }
   ],
   "source": [
    "new_index = pd.date_range(sales.index.min(), sales.index.max())\n",
    "print(new_index)"
   ],
   "metadata": {
    "collapsed": false,
    "pycharm": {
     "name": "#%%\n"
    }
   }
  },
  {
   "cell_type": "markdown",
   "source": [
    "To use this index, we need to tell Pandas how to treat missing values. In this case, we want to use zero for days without sales data."
   ],
   "metadata": {
    "collapsed": false,
    "pycharm": {
     "name": "#%% md\n"
    }
   }
  },
  {
   "cell_type": "code",
   "execution_count": 32,
   "outputs": [],
   "source": [
    "sales_new = sales.reindex(new_index, fill_value=0)"
   ],
   "metadata": {
    "collapsed": false,
    "pycharm": {
     "name": "#%%\n"
    }
   }
  },
  {
   "cell_type": "code",
   "execution_count": 33,
   "outputs": [
    {
     "data": {
      "text/plain": "DatetimeIndex(['2011-01-04', '2011-01-05', '2011-01-06', '2011-01-07',\n               '2011-01-08', '2011-01-09', '2011-01-10', '2011-01-11',\n               '2011-01-12', '2011-01-13',\n               ...\n               '2014-12-22', '2014-12-23', '2014-12-24', '2014-12-25',\n               '2014-12-26', '2014-12-27', '2014-12-28', '2014-12-29',\n               '2014-12-30', '2014-12-31'],\n              dtype='datetime64[ns]', length=1458, freq='D')"
     },
     "execution_count": 33,
     "metadata": {},
     "output_type": "execute_result"
    }
   ],
   "source": [
    "sales_new.index"
   ],
   "metadata": {
    "collapsed": false,
    "pycharm": {
     "name": "#%%\n"
    }
   }
  },
  {
   "cell_type": "markdown",
   "source": [
    "We can see the result now has a daily frequency. While some Time Seriods models will work without an explicit frequency, many will not. It is also helps to ensure we aren't missing important dates when summarizing and plotting the data.\n",
    "\n",
    "\n",
    "## Resampling\n",
    "We can now easily Resample our data at any desired frequency, using either the `asfreq` method or the `resample` method. The `asfreq` method assumes a default fill approach (which can be dangerous). The `resample` method allows this to be specified directly. which generates a __[resampler](https://pandas.pydata.org/pandas-docs/stable/reference/resampling.html)__ object. To get to values, we need to specify an aggregation function if upsampling (moving to a lower frequency), or fill function if downsampling (moving to a higher frequency). This typically the sum or mean for upsampling, or interpolate for downsampling. We generate results for some common frequencies below:\n",
    "### Upsampling (Moving to a longer period)"
   ],
   "metadata": {
    "collapsed": false,
    "pycharm": {
     "name": "#%% md\n"
    }
   }
  },
  {
   "cell_type": "code",
   "execution_count": 44,
   "outputs": [
    {
     "data": {
      "text/plain": "            Furniture  Office Supplies  Technology\n2011-01-31    5,951.9          4,851.1     3,143.3\n2011-02-28    2,130.3          1,071.7     1,608.5\n2011-03-31   14,574.0          8,605.9    32,511.2\n2011-04-30    7,944.8         11,155.1     9,195.4\n2011-05-31    6,912.8          7,135.6     9,599.9",
      "text/html": "<div>\n<style scoped>\n    .dataframe tbody tr th:only-of-type {\n        vertical-align: middle;\n    }\n\n    .dataframe tbody tr th {\n        vertical-align: top;\n    }\n\n    .dataframe thead th {\n        text-align: right;\n    }\n</style>\n<table border=\"1\" class=\"dataframe\">\n  <thead>\n    <tr style=\"text-align: right;\">\n      <th></th>\n      <th>Furniture</th>\n      <th>Office Supplies</th>\n      <th>Technology</th>\n    </tr>\n  </thead>\n  <tbody>\n    <tr>\n      <th>2011-01-31</th>\n      <td>5,951.9</td>\n      <td>4,851.1</td>\n      <td>3,143.3</td>\n    </tr>\n    <tr>\n      <th>2011-02-28</th>\n      <td>2,130.3</td>\n      <td>1,071.7</td>\n      <td>1,608.5</td>\n    </tr>\n    <tr>\n      <th>2011-03-31</th>\n      <td>14,574.0</td>\n      <td>8,605.9</td>\n      <td>32,511.2</td>\n    </tr>\n    <tr>\n      <th>2011-04-30</th>\n      <td>7,944.8</td>\n      <td>11,155.1</td>\n      <td>9,195.4</td>\n    </tr>\n    <tr>\n      <th>2011-05-31</th>\n      <td>6,912.8</td>\n      <td>7,135.6</td>\n      <td>9,599.9</td>\n    </tr>\n  </tbody>\n</table>\n</div>"
     },
     "execution_count": 44,
     "metadata": {},
     "output_type": "execute_result"
    }
   ],
   "source": [
    "sales_monthly = sales_new.resample('M').sum()\n",
    "sales_monthly.head()"
   ],
   "metadata": {
    "collapsed": false,
    "pycharm": {
     "name": "#%%\n"
    }
   }
  },
  {
   "cell_type": "code",
   "execution_count": 45,
   "outputs": [
    {
     "name": "stdout",
     "output_type": "stream",
     "text": [
      "Weekly Sales\n",
      "            Furniture  Office Supplies  Technology\n",
      "2011-01-09    2,650.5          1,019.8     1,147.9\n",
      "2011-01-16    1,003.8          2,039.4       827.9\n",
      "2011-01-23    1,747.3            871.1       824.1\n",
      "2011-01-30      550.2            680.3       343.3\n",
      "2011-02-06      290.7            502.7       649.9 \n",
      "\n",
      "Monthly Sales\n",
      "            Furniture  Office Supplies  Technology\n",
      "2011-01-31    5,951.9          4,851.1     3,143.3\n",
      "2011-02-28    2,130.3          1,071.7     1,608.5\n",
      "2011-03-31   14,574.0          8,605.9    32,511.2\n",
      "2011-04-30    7,944.8         11,155.1     9,195.4\n",
      "2011-05-31    6,912.8          7,135.6     9,599.9 \n",
      "\n",
      "Quarterly Sales\n",
      "            Furniture  Office Supplies  Technology\n",
      "2011-03-31   22,656.1         14,528.7    37,263.0\n",
      "2011-06-30   28,063.7         31,243.7    27,231.3\n",
      "2011-09-30   41,957.9         53,924.0    47,751.4\n",
      "2011-12-31   64,515.1         52,080.0    63,032.6\n",
      "2012-03-31   27,374.1         23,059.4    18,418.2 \n",
      "\n",
      "Annual Sales\n",
      "            Furniture  Office Supplies  Technology\n",
      "2011-12-31  157,192.9        151,776.4   175,278.2\n",
      "2012-12-31  170,518.2        137,233.5   162,780.8\n",
      "2013-12-31  198,901.4        183,510.6   226,061.8\n",
      "2014-12-31  215,387.3        246,526.6   272,033.2 \n",
      "\n"
     ]
    }
   ],
   "source": [
    "sales_weekly = sales_new.resample('W').sum()\n",
    "print('Weekly Sales')\n",
    "print(sales_weekly.head(), '\\n')\n",
    "\n",
    "sales_monthly = sales_new.resample('M').sum()\n",
    "print('Monthly Sales')\n",
    "print(sales_monthly.head(), '\\n')\n",
    "\n",
    "sales_quarterly = sales_new.resample('Q').sum()\n",
    "print('Quarterly Sales')\n",
    "print(sales_quarterly.head(), '\\n')\n",
    "\n",
    "sales_annual = sales_new.resample('Y').sum()\n",
    "print('Annual Sales')\n",
    "print(sales_annual.head(), '\\n')"
   ],
   "metadata": {
    "collapsed": false,
    "pycharm": {
     "name": "#%%\n"
    }
   }
  },
  {
   "cell_type": "markdown",
   "source": [
    "### Downsampling (moving to a shorter period)\n",
    "Just as upsampling (moving to a larger period) requires an aggregation function, downsampling (moving from Annual to Monthly, for example) requires an option to fill in missing values. A common approach is the __[interpolate](https://pandas.pydata.org/pandas-docs/stable/reference/api/pandas.core.resample.Resampler.interpolate.html)__ method, which allows various types of interpolation (linear, spline, etc.). Other options (ffill forward fill, bfill backward fill) are also supported."
   ],
   "metadata": {
    "collapsed": false,
    "pycharm": {
     "name": "#%% md\n"
    }
   }
  },
  {
   "cell_type": "code",
   "execution_count": 49,
   "outputs": [
    {
     "name": "stdout",
     "output_type": "stream",
     "text": [
      "            Furniture  Office Supplies  Technology\n",
      "2011-12-31  157,192.9        151,776.4   175,278.2\n",
      "2012-01-31  157,062.6        147,084.7   168,957.8\n",
      "2012-02-29  157,200.9        143,355.5   164,096.2\n",
      "2012-03-31  157,611.1        140,049.0   159,969.0\n",
      "2012-04-30  158,251.0        137,493.3   156,975.1\n"
     ]
    }
   ],
   "source": [
    "# Note that downsampling (from Annual to Monthly for example) produces missing values:\n",
    "sales_monthly_from_annual = sales_annual.resample('M')\n",
    "\n",
    "# fit null values with mean\n",
    "print(sales_monthly_from_annual.interpolate(method='spline', order=3).head())"
   ],
   "metadata": {
    "collapsed": false,
    "pycharm": {
     "name": "#%%\n"
    }
   }
  },
  {
   "cell_type": "markdown",
   "source": [
    "#### Resampling by changing frequency directly\n",
    "Another way to achieve this is to use the `asfreq` method:"
   ],
   "metadata": {
    "collapsed": false,
    "pycharm": {
     "name": "#%% md\n"
    }
   }
  },
  {
   "cell_type": "code",
   "execution_count": 50,
   "outputs": [
    {
     "data": {
      "text/plain": "                     Furniture  Office Supplies  Technology\nOrder Date                                                 \n2011-01-04 00:00:00        0.0             16.4         0.0\n2011-01-04 01:00:00        NaN              NaN         NaN\n2011-01-04 02:00:00        NaN              NaN         NaN\n2011-01-04 03:00:00        NaN              NaN         NaN\n2011-01-04 04:00:00        NaN              NaN         NaN",
      "text/html": "<div>\n<style scoped>\n    .dataframe tbody tr th:only-of-type {\n        vertical-align: middle;\n    }\n\n    .dataframe tbody tr th {\n        vertical-align: top;\n    }\n\n    .dataframe thead th {\n        text-align: right;\n    }\n</style>\n<table border=\"1\" class=\"dataframe\">\n  <thead>\n    <tr style=\"text-align: right;\">\n      <th></th>\n      <th>Furniture</th>\n      <th>Office Supplies</th>\n      <th>Technology</th>\n    </tr>\n    <tr>\n      <th>Order Date</th>\n      <th></th>\n      <th></th>\n      <th></th>\n    </tr>\n  </thead>\n  <tbody>\n    <tr>\n      <th>2011-01-04 00:00:00</th>\n      <td>0.0</td>\n      <td>16.4</td>\n      <td>0.0</td>\n    </tr>\n    <tr>\n      <th>2011-01-04 01:00:00</th>\n      <td>NaN</td>\n      <td>NaN</td>\n      <td>NaN</td>\n    </tr>\n    <tr>\n      <th>2011-01-04 02:00:00</th>\n      <td>NaN</td>\n      <td>NaN</td>\n      <td>NaN</td>\n    </tr>\n    <tr>\n      <th>2011-01-04 03:00:00</th>\n      <td>NaN</td>\n      <td>NaN</td>\n      <td>NaN</td>\n    </tr>\n    <tr>\n      <th>2011-01-04 04:00:00</th>\n      <td>NaN</td>\n      <td>NaN</td>\n      <td>NaN</td>\n    </tr>\n  </tbody>\n</table>\n</div>"
     },
     "execution_count": 50,
     "metadata": {},
     "output_type": "execute_result"
    }
   ],
   "source": [
    "sales_daily = sales.asfreq('D')\n",
    "sales_businessday = sales.asfreq('B')\n",
    "sales_hourly = sales.asfreq('h')\n",
    "# This will generate missing values:\n",
    "sales_hourly.head()"
   ],
   "metadata": {
    "collapsed": false,
    "pycharm": {
     "name": "#%%\n"
    }
   }
  },
  {
   "cell_type": "code",
   "execution_count": null,
   "outputs": [],
   "source": [],
   "metadata": {
    "collapsed": false,
    "pycharm": {
     "name": "#%%\n"
    }
   }
  }
 ],
 "metadata": {
  "kernelspec": {
   "display_name": "Python 3",
   "language": "python",
   "name": "python3"
  },
  "language_info": {
   "codemirror_mode": {
    "name": "ipython",
    "version": 2
   },
   "file_extension": ".py",
   "mimetype": "text/x-python",
   "name": "python",
   "nbconvert_exporter": "python",
   "pygments_lexer": "ipython2",
   "version": "2.7.6"
  }
 },
 "nbformat": 4,
 "nbformat_minor": 0
}