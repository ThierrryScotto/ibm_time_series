{
 "cells": [
  {
   "cell_type": "code",
   "execution_count": 1,
   "outputs": [],
   "source": [
    "# imports\n",
    "import pandas as pd\n",
    "import numpy as np\n",
    "import matplotlib.pyplot as plt\n",
    "import seaborn as sns\n",
    "import warnings\n",
    "from datetime import datetime\n",
    "from datetime import timedelta\n",
    "from dateutil.relativedelta import relativedelta\n",
    "from IPython.display import display\n",
    "import os\n",
    "from colorsetup import colors, palette\n",
    "sns.set_palette(palette)\n",
    "# ignore warnings\n",
    "warnings.filterwarnings('ignore')\n",
    "pd.options.display.float_format = '{:,.1f}'.format\n",
    "%matplotlib inline\n",
    "plotsize = (13, 5)"
   ],
   "metadata": {
    "collapsed": false,
    "pycharm": {
     "name": "#%%\n"
    }
   }
  },
  {
   "cell_type": "markdown",
   "source": [
    "### Read in source data:\n",
    "It is often easiest to read data in as a Pandas DataFrame. Pandas provides a variety of __[Input/Output](https://pandas.pydata.org/pandas-docs/stable/reference/io.html)__ options to read files from common (.csv, .json) or proprietary (.xls, .sas7bdat) formats."
   ],
   "metadata": {
    "collapsed": false,
    "pycharm": {
     "name": "#%% md\n"
    }
   }
  },
  {
   "cell_type": "code",
   "execution_count": 3,
   "outputs": [
    {
     "data": {
      "text/plain": "Index(['Row ID', 'Order ID', 'Order Date', 'Ship Date', 'Ship Mode',\n       'Customer ID', 'Customer Name', 'Segment', 'Country', 'City', 'State',\n       'Postal Code', 'Region', 'Product ID', 'Category', 'Sub-Category',\n       'Product Name', 'Sales', 'Quantity', 'Discount', 'Profit'],\n      dtype='object')"
     },
     "execution_count": 3,
     "metadata": {},
     "output_type": "execute_result"
    }
   ],
   "source": [
    "df = pd.read_excel('Sample - Superstore.xls')\n",
    "df.columns"
   ],
   "metadata": {
    "collapsed": false,
    "pycharm": {
     "name": "#%%\n"
    }
   }
  },
  {
   "cell_type": "code",
   "execution_count": 4,
   "outputs": [
    {
     "data": {
      "text/plain": "   Row ID        Order ID Order Date  Ship Date       Ship Mode Customer ID  \\\n0       1  CA-2013-152156 2013-11-09 2013-11-12    Second Class    CG-12520   \n1       2  CA-2013-152156 2013-11-09 2013-11-12    Second Class    CG-12520   \n2       3  CA-2013-138688 2013-06-13 2013-06-17    Second Class    DV-13045   \n3       4  US-2012-108966 2012-10-11 2012-10-18  Standard Class    SO-20335   \n4       5  US-2012-108966 2012-10-11 2012-10-18  Standard Class    SO-20335   \n\n     Customer Name    Segment        Country             City  ...  \\\n0      Claire Gute   Consumer  United States        Henderson  ...   \n1      Claire Gute   Consumer  United States        Henderson  ...   \n2  Darrin Van Huff  Corporate  United States      Los Angeles  ...   \n3   Sean O'Donnell   Consumer  United States  Fort Lauderdale  ...   \n4   Sean O'Donnell   Consumer  United States  Fort Lauderdale  ...   \n\n  Postal Code  Region       Product ID         Category Sub-Category  \\\n0       42420   South  FUR-BO-10001798        Furniture    Bookcases   \n1       42420   South  FUR-CH-10000454        Furniture       Chairs   \n2       90036    West  OFF-LA-10000240  Office Supplies       Labels   \n3       33311   South  FUR-TA-10000577        Furniture       Tables   \n4       33311   South  OFF-ST-10000760  Office Supplies      Storage   \n\n                                        Product Name Sales  Quantity  \\\n0                  Bush Somerset Collection Bookcase 262.0         2   \n1  Hon Deluxe Fabric Upholstered Stacking Chairs,... 731.9         3   \n2  Self-Adhesive Address Labels for Typewriters b...  14.6         2   \n3      Bretford CR4500 Series Slim Rectangular Table 957.6         5   \n4                     Eldon Fold 'N Roll Cart System  22.4         2   \n\n   Discount  Profit  \n0       0.0    41.9  \n1       0.0   219.6  \n2       0.0     6.9  \n3       0.5  -383.0  \n4       0.2     2.5  \n\n[5 rows x 21 columns]",
      "text/html": "<div>\n<style scoped>\n    .dataframe tbody tr th:only-of-type {\n        vertical-align: middle;\n    }\n\n    .dataframe tbody tr th {\n        vertical-align: top;\n    }\n\n    .dataframe thead th {\n        text-align: right;\n    }\n</style>\n<table border=\"1\" class=\"dataframe\">\n  <thead>\n    <tr style=\"text-align: right;\">\n      <th></th>\n      <th>Row ID</th>\n      <th>Order ID</th>\n      <th>Order Date</th>\n      <th>Ship Date</th>\n      <th>Ship Mode</th>\n      <th>Customer ID</th>\n      <th>Customer Name</th>\n      <th>Segment</th>\n      <th>Country</th>\n      <th>City</th>\n      <th>...</th>\n      <th>Postal Code</th>\n      <th>Region</th>\n      <th>Product ID</th>\n      <th>Category</th>\n      <th>Sub-Category</th>\n      <th>Product Name</th>\n      <th>Sales</th>\n      <th>Quantity</th>\n      <th>Discount</th>\n      <th>Profit</th>\n    </tr>\n  </thead>\n  <tbody>\n    <tr>\n      <th>0</th>\n      <td>1</td>\n      <td>CA-2013-152156</td>\n      <td>2013-11-09</td>\n      <td>2013-11-12</td>\n      <td>Second Class</td>\n      <td>CG-12520</td>\n      <td>Claire Gute</td>\n      <td>Consumer</td>\n      <td>United States</td>\n      <td>Henderson</td>\n      <td>...</td>\n      <td>42420</td>\n      <td>South</td>\n      <td>FUR-BO-10001798</td>\n      <td>Furniture</td>\n      <td>Bookcases</td>\n      <td>Bush Somerset Collection Bookcase</td>\n      <td>262.0</td>\n      <td>2</td>\n      <td>0.0</td>\n      <td>41.9</td>\n    </tr>\n    <tr>\n      <th>1</th>\n      <td>2</td>\n      <td>CA-2013-152156</td>\n      <td>2013-11-09</td>\n      <td>2013-11-12</td>\n      <td>Second Class</td>\n      <td>CG-12520</td>\n      <td>Claire Gute</td>\n      <td>Consumer</td>\n      <td>United States</td>\n      <td>Henderson</td>\n      <td>...</td>\n      <td>42420</td>\n      <td>South</td>\n      <td>FUR-CH-10000454</td>\n      <td>Furniture</td>\n      <td>Chairs</td>\n      <td>Hon Deluxe Fabric Upholstered Stacking Chairs,...</td>\n      <td>731.9</td>\n      <td>3</td>\n      <td>0.0</td>\n      <td>219.6</td>\n    </tr>\n    <tr>\n      <th>2</th>\n      <td>3</td>\n      <td>CA-2013-138688</td>\n      <td>2013-06-13</td>\n      <td>2013-06-17</td>\n      <td>Second Class</td>\n      <td>DV-13045</td>\n      <td>Darrin Van Huff</td>\n      <td>Corporate</td>\n      <td>United States</td>\n      <td>Los Angeles</td>\n      <td>...</td>\n      <td>90036</td>\n      <td>West</td>\n      <td>OFF-LA-10000240</td>\n      <td>Office Supplies</td>\n      <td>Labels</td>\n      <td>Self-Adhesive Address Labels for Typewriters b...</td>\n      <td>14.6</td>\n      <td>2</td>\n      <td>0.0</td>\n      <td>6.9</td>\n    </tr>\n    <tr>\n      <th>3</th>\n      <td>4</td>\n      <td>US-2012-108966</td>\n      <td>2012-10-11</td>\n      <td>2012-10-18</td>\n      <td>Standard Class</td>\n      <td>SO-20335</td>\n      <td>Sean O'Donnell</td>\n      <td>Consumer</td>\n      <td>United States</td>\n      <td>Fort Lauderdale</td>\n      <td>...</td>\n      <td>33311</td>\n      <td>South</td>\n      <td>FUR-TA-10000577</td>\n      <td>Furniture</td>\n      <td>Tables</td>\n      <td>Bretford CR4500 Series Slim Rectangular Table</td>\n      <td>957.6</td>\n      <td>5</td>\n      <td>0.5</td>\n      <td>-383.0</td>\n    </tr>\n    <tr>\n      <th>4</th>\n      <td>5</td>\n      <td>US-2012-108966</td>\n      <td>2012-10-11</td>\n      <td>2012-10-18</td>\n      <td>Standard Class</td>\n      <td>SO-20335</td>\n      <td>Sean O'Donnell</td>\n      <td>Consumer</td>\n      <td>United States</td>\n      <td>Fort Lauderdale</td>\n      <td>...</td>\n      <td>33311</td>\n      <td>South</td>\n      <td>OFF-ST-10000760</td>\n      <td>Office Supplies</td>\n      <td>Storage</td>\n      <td>Eldon Fold 'N Roll Cart System</td>\n      <td>22.4</td>\n      <td>2</td>\n      <td>0.2</td>\n      <td>2.5</td>\n    </tr>\n  </tbody>\n</table>\n<p>5 rows × 21 columns</p>\n</div>"
     },
     "execution_count": 4,
     "metadata": {},
     "output_type": "execute_result"
    }
   ],
   "source": [
    "df.head()"
   ],
   "metadata": {
    "collapsed": false,
    "pycharm": {
     "name": "#%%\n"
    }
   }
  },
  {
   "cell_type": "markdown",
   "source": [
    "We can see the data have been input and the columns are referenced by a Pandas Index object. There are two Date variables (Order Date and Ship Date), variables for customer and region, product type variables (Category, Sub-Category, Product Name), etc.\n",
    "\n",
    "### Simplify Time Series Data\n",
    "We will start by simplifying the input data a bit to explore data types. To do so, we will look at Total Sales by Order Date and Category. This allows us to look a Time Series dataset with multiple time series."
   ],
   "metadata": {
    "collapsed": false,
    "pycharm": {
     "name": "#%% md\n"
    }
   }
  },
  {
   "cell_type": "code",
   "execution_count": 6,
   "outputs": [],
   "source": [
    "variables = ['Order Date', 'Category', 'Sales']\n",
    "\n",
    "group_variables = variables[:2]\n",
    "outcome_variable = variables[2]\n",
    "base = df.groupby(group_variables)[outcome_variable].sum().reset_index()"
   ],
   "metadata": {
    "collapsed": false,
    "pycharm": {
     "name": "#%%\n"
    }
   }
  },
  {
   "cell_type": "markdown",
   "source": [
    "Note we reset the index, if we don't, Pandas sets the group variables to the index (more on this later). We can see the result is a Pandas DataFrame with columns for `Order Date`, `Category`, and `Sales`. We can think of this as a `Sales` time series for each `Category`."
   ],
   "metadata": {
    "collapsed": false,
    "pycharm": {
     "name": "#%% md\n"
    }
   }
  },
  {
   "cell_type": "code",
   "execution_count": 9,
   "outputs": [
    {
     "name": "stdout",
     "output_type": "stream",
     "text": [
      "Columns: Index(['Order Date', 'Category', 'Sales'], dtype='object')\n",
      "Index: RangeIndex(start=0, stop=2864, step=1)\n"
     ]
    }
   ],
   "source": [
    "print(\"Columns:\", base.columns)\n",
    "print(\"Index:\", base.index)"
   ],
   "metadata": {
    "collapsed": false,
    "pycharm": {
     "name": "#%%\n"
    }
   }
  },
  {
   "cell_type": "code",
   "execution_count": 11,
   "outputs": [
    {
     "data": {
      "text/plain": "     Order Date         Category   Sales\n0    2011-01-04  Office Supplies    16.4\n1    2011-01-05  Office Supplies   288.1\n2    2011-01-06  Office Supplies    19.5\n3    2011-01-07        Furniture 2,573.8\n4    2011-01-07  Office Supplies   685.3\n...         ...              ...     ...\n2659 2014-10-13       Technology 2,278.2\n2660 2014-10-14        Furniture 1,515.0\n2661 2014-10-14  Office Supplies 6,648.9\n2662 2014-10-14       Technology   241.9\n2663 2014-10-15        Furniture     9.5\n\n[2664 rows x 3 columns]",
      "text/html": "<div>\n<style scoped>\n    .dataframe tbody tr th:only-of-type {\n        vertical-align: middle;\n    }\n\n    .dataframe tbody tr th {\n        vertical-align: top;\n    }\n\n    .dataframe thead th {\n        text-align: right;\n    }\n</style>\n<table border=\"1\" class=\"dataframe\">\n  <thead>\n    <tr style=\"text-align: right;\">\n      <th></th>\n      <th>Order Date</th>\n      <th>Category</th>\n      <th>Sales</th>\n    </tr>\n  </thead>\n  <tbody>\n    <tr>\n      <th>0</th>\n      <td>2011-01-04</td>\n      <td>Office Supplies</td>\n      <td>16.4</td>\n    </tr>\n    <tr>\n      <th>1</th>\n      <td>2011-01-05</td>\n      <td>Office Supplies</td>\n      <td>288.1</td>\n    </tr>\n    <tr>\n      <th>2</th>\n      <td>2011-01-06</td>\n      <td>Office Supplies</td>\n      <td>19.5</td>\n    </tr>\n    <tr>\n      <th>3</th>\n      <td>2011-01-07</td>\n      <td>Furniture</td>\n      <td>2,573.8</td>\n    </tr>\n    <tr>\n      <th>4</th>\n      <td>2011-01-07</td>\n      <td>Office Supplies</td>\n      <td>685.3</td>\n    </tr>\n    <tr>\n      <th>...</th>\n      <td>...</td>\n      <td>...</td>\n      <td>...</td>\n    </tr>\n    <tr>\n      <th>2659</th>\n      <td>2014-10-13</td>\n      <td>Technology</td>\n      <td>2,278.2</td>\n    </tr>\n    <tr>\n      <th>2660</th>\n      <td>2014-10-14</td>\n      <td>Furniture</td>\n      <td>1,515.0</td>\n    </tr>\n    <tr>\n      <th>2661</th>\n      <td>2014-10-14</td>\n      <td>Office Supplies</td>\n      <td>6,648.9</td>\n    </tr>\n    <tr>\n      <th>2662</th>\n      <td>2014-10-14</td>\n      <td>Technology</td>\n      <td>241.9</td>\n    </tr>\n    <tr>\n      <th>2663</th>\n      <td>2014-10-15</td>\n      <td>Furniture</td>\n      <td>9.5</td>\n    </tr>\n  </tbody>\n</table>\n<p>2664 rows × 3 columns</p>\n</div>"
     },
     "execution_count": 11,
     "metadata": {},
     "output_type": "execute_result"
    }
   ],
   "source": [
    "base.head()"
   ],
   "metadata": {
    "collapsed": false,
    "pycharm": {
     "name": "#%%\n"
    }
   }
  },
  {
   "cell_type": "markdown",
   "source": [
    "Individual DataFrame columns are Pandas `Series`, and we can see the `RangeIndex` on the left. This Pandas `DataFrame` is a combination of the `RangeIndex` and Pandas `Series` objects, where each has an underlying data type:"
   ],
   "metadata": {
    "collapsed": false,
    "pycharm": {
     "name": "#%% md\n"
    }
   }
  },
  {
   "cell_type": "code",
   "execution_count": 12,
   "outputs": [
    {
     "data": {
      "text/plain": "Order Date    datetime64[ns]\nCategory              object\nSales                float64\ndtype: object"
     },
     "execution_count": 12,
     "metadata": {},
     "output_type": "execute_result"
    }
   ],
   "source": [
    "base.dtypes"
   ],
   "metadata": {
    "collapsed": false,
    "pycharm": {
     "name": "#%%\n"
    }
   }
  },
  {
   "cell_type": "markdown",
   "source": [
    "#### Pandas DataFrame types:"
   ],
   "metadata": {
    "collapsed": false,
    "pycharm": {
     "name": "#%% md\n"
    }
   }
  },
  {
   "cell_type": "code",
   "execution_count": 13,
   "outputs": [
    {
     "name": "stdout",
     "output_type": "stream",
     "text": [
      "Order Date <class 'pandas.core.series.Series'> datetime64[ns]\n",
      "Category <class 'pandas.core.series.Series'> object\n",
      "Sales <class 'pandas.core.series.Series'> float64\n"
     ]
    }
   ],
   "source": [
    "for x in base.columns:\n",
    "    print(x, type(base[x]), base[x].dtype)"
   ],
   "metadata": {
    "collapsed": false,
    "pycharm": {
     "name": "#%%\n"
    }
   }
  },
  {
   "cell_type": "markdown",
   "source": [
    "### Working with NumPy Arrays\n",
    "It isn't always necessary to extract NumPy arrays, as the Pandas Series contains NumPy functionality. However, some applications use NumPy arrays as inputs and can bypass Pandas if desired."
   ],
   "metadata": {
    "collapsed": false,
    "pycharm": {
     "name": "#%% md\n"
    }
   }
  },
  {
   "cell_type": "code",
   "execution_count": 14,
   "outputs": [],
   "source": [
    "order_date = np.array(base['Order Date'])\n",
    "sales = np.array(base['Sales'])\n",
    "category = np.array(base['Category'])"
   ],
   "metadata": {
    "collapsed": false,
    "pycharm": {
     "name": "#%%\n"
    }
   }
  },
  {
   "cell_type": "code",
   "execution_count": 15,
   "outputs": [
    {
     "name": "stdout",
     "output_type": "stream",
     "text": [
      "Order Date <class 'numpy.ndarray'> datetime64[ns]\n",
      "Category <class 'numpy.ndarray'> object\n",
      "Sales <class 'numpy.ndarray'> float64\n"
     ]
    }
   ],
   "source": [
    "print('Order Date', type(order_date), order_date.dtype)\n",
    "print('Category', type(category), category.dtype)\n",
    "print('Sales', type(sales), sales.dtype)"
   ],
   "metadata": {
    "collapsed": false,
    "pycharm": {
     "name": "#%%\n"
    }
   }
  },
  {
   "cell_type": "markdown",
   "source": [
    "If starting from the NumPy arrays, we could build the DataFrame (note dictionary input structure):"
   ],
   "metadata": {
    "collapsed": false,
    "pycharm": {
     "name": "#%% md\n"
    }
   }
  },
  {
   "cell_type": "code",
   "execution_count": 16,
   "outputs": [],
   "source": [
    "df_from_numpy = pd.DataFrame({'Order Date': order_date, 'Category': category, 'Sales': sales})"
   ],
   "metadata": {
    "collapsed": false,
    "pycharm": {
     "name": "#%%\n"
    }
   }
  },
  {
   "cell_type": "code",
   "execution_count": 17,
   "outputs": [
    {
     "data": {
      "text/plain": "Order Date    datetime64[ns]\nCategory              object\nSales                float64\ndtype: object"
     },
     "execution_count": 17,
     "metadata": {},
     "output_type": "execute_result"
    }
   ],
   "source": [
    "df_from_numpy.dtypes"
   ],
   "metadata": {
    "collapsed": false,
    "pycharm": {
     "name": "#%%\n"
    }
   }
  },
  {
   "cell_type": "markdown",
   "source": [
    "### datetime64 format in Numpy\n",
    "The NumPy date array is a datetime64 object, with ns (nanosecond) units. We can leave it this way, or specify a unit:"
   ],
   "metadata": {
    "collapsed": false,
    "pycharm": {
     "name": "#%% md\n"
    }
   }
  },
  {
   "cell_type": "markdown",
   "source": [
    "While the Array and Pandas Series are basically the same, we see the Series has an index, and formats the date output somewhat."
   ],
   "metadata": {
    "collapsed": false,
    "pycharm": {
     "name": "#%% md\n"
    }
   }
  },
  {
   "cell_type": "code",
   "execution_count": 21,
   "outputs": [
    {
     "data": {
      "text/plain": "array(['2011-01-04T00:00:00.000000000', '2011-01-05T00:00:00.000000000',\n       '2011-01-06T00:00:00.000000000', ...,\n       '2014-12-31T00:00:00.000000000', '2014-12-31T00:00:00.000000000',\n       '2014-12-31T00:00:00.000000000'], dtype='datetime64[ns]')"
     },
     "execution_count": 21,
     "metadata": {},
     "output_type": "execute_result"
    }
   ],
   "source": [
    "order_date"
   ],
   "metadata": {
    "collapsed": false,
    "pycharm": {
     "name": "#%%\n"
    }
   }
  },
  {
   "cell_type": "code",
   "execution_count": 22,
   "outputs": [],
   "source": [
    "order_date_daily = np.array(order_date, dtype='datetime64[D]')"
   ],
   "metadata": {
    "collapsed": false,
    "pycharm": {
     "name": "#%%\n"
    }
   }
  },
  {
   "cell_type": "code",
   "execution_count": 23,
   "outputs": [
    {
     "data": {
      "text/plain": "array(['2011-01-04', '2011-01-05', '2011-01-06', ..., '2014-12-31',\n       '2014-12-31', '2014-12-31'], dtype='datetime64[D]')"
     },
     "execution_count": 23,
     "metadata": {},
     "output_type": "execute_result"
    }
   ],
   "source": [
    "order_date_daily"
   ],
   "metadata": {
    "collapsed": false,
    "pycharm": {
     "name": "#%%\n"
    }
   }
  },
  {
   "cell_type": "code",
   "execution_count": 25,
   "outputs": [],
   "source": [
    "order_date_monthly = np.array(order_date, dtype='datetime64[M]')"
   ],
   "metadata": {
    "collapsed": false,
    "pycharm": {
     "name": "#%%\n"
    }
   }
  },
  {
   "cell_type": "code",
   "execution_count": 26,
   "outputs": [
    {
     "data": {
      "text/plain": "array(['2011-01', '2011-01', '2011-01', ..., '2014-12', '2014-12',\n       '2014-12'], dtype='datetime64[M]')"
     },
     "execution_count": 26,
     "metadata": {},
     "output_type": "execute_result"
    }
   ],
   "source": [
    "order_date_monthly"
   ],
   "metadata": {
    "collapsed": false,
    "pycharm": {
     "name": "#%%\n"
    }
   }
  },
  {
   "cell_type": "code",
   "execution_count": 27,
   "outputs": [
    {
     "data": {
      "text/plain": "array(['2011-01', '2011-02', '2011-03', '2011-04', '2011-05', '2011-06',\n       '2011-07', '2011-08', '2011-09', '2011-10', '2011-11', '2011-12',\n       '2012-01', '2012-02', '2012-03', '2012-04', '2012-05', '2012-06',\n       '2012-07', '2012-08', '2012-09', '2012-10', '2012-11', '2012-12',\n       '2013-01', '2013-02', '2013-03', '2013-04', '2013-05', '2013-06',\n       '2013-07', '2013-08', '2013-09', '2013-10', '2013-11', '2013-12',\n       '2014-01', '2014-02', '2014-03', '2014-04', '2014-05', '2014-06',\n       '2014-07', '2014-08', '2014-09', '2014-10', '2014-11', '2014-12'],\n      dtype='datetime64[M]')"
     },
     "execution_count": 27,
     "metadata": {},
     "output_type": "execute_result"
    }
   ],
   "source": [
    "np.unique(order_date_monthly)"
   ],
   "metadata": {
    "collapsed": false,
    "pycharm": {
     "name": "#%%\n"
    }
   }
  },
  {
   "cell_type": "code",
   "execution_count": 29,
   "outputs": [
    {
     "data": {
      "text/plain": "48"
     },
     "execution_count": 29,
     "metadata": {},
     "output_type": "execute_result"
    }
   ],
   "source": [
    "len(np.unique(order_date_monthly))"
   ],
   "metadata": {
    "collapsed": false,
    "pycharm": {
     "name": "#%%\n"
    }
   }
  },
  {
   "cell_type": "markdown",
   "source": [
    "We can see we have 48 unique months of data."
   ],
   "metadata": {
    "collapsed": false,
    "pycharm": {
     "name": "#%% md\n"
    }
   }
  },
  {
   "cell_type": "code",
   "execution_count": null,
   "outputs": [],
   "source": [],
   "metadata": {
    "collapsed": false,
    "pycharm": {
     "name": "#%%\n"
    }
   }
  }
 ],
 "metadata": {
  "kernelspec": {
   "display_name": "Python 3",
   "language": "python",
   "name": "python3"
  },
  "language_info": {
   "codemirror_mode": {
    "name": "ipython",
    "version": 2
   },
   "file_extension": ".py",
   "mimetype": "text/x-python",
   "name": "python",
   "nbconvert_exporter": "python",
   "pygments_lexer": "ipython2",
   "version": "2.7.6"
  }
 },
 "nbformat": 4,
 "nbformat_minor": 0
}